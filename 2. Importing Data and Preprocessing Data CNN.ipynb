{
  "cells": [
    {
      "cell_type": "code",
      "execution_count": null,
      "metadata": {
        "colab": {
          "base_uri": "https://localhost:8080/"
        },
        "id": "a0vYanfCEJjC",
        "outputId": "deec19d3-c3ad-4676-89e1-ed12c82c29a1"
      },
      "outputs": [
        {
          "output_type": "stream",
          "name": "stdout",
          "text": [
            "Mounted at /content/drive\n"
          ]
        }
      ],
      "source": [
        "drive.mount('/content/drive')\n",
        "os.chdir(\"/content/drive/MyDrive\")"
      ]
    },
    {
      "cell_type": "code",
      "execution_count": null,
      "metadata": {
        "id": "oITXAf27EKze"
      },
      "outputs": [],
      "source": [
        "train_path = (\"/content/drive/MyDrive/YANG DIPAKE INI 80 TR 20 VAL/TRAIN\")\n",
        "test_path = (\"/content/drive/MyDrive/YANG DIPAKE INI 80 TR 20 VAL/TEST\")"
      ]
    },
    {
      "cell_type": "code",
      "execution_count": null,
      "metadata": {
        "id": "6KkAEzgJEMXX"
      },
      "outputs": [],
      "source": [
        "labels = ['C0', 'C1', 'C2', 'C3', 'C4', 'C5', 'C6', 'C7', 'C8', 'C9']"
      ]
    },
    {
      "cell_type": "code",
      "execution_count": null,
      "metadata": {
        "id": "5axc9gd-ENd1"
      },
      "outputs": [],
      "source": [
        "X_train = []\n",
        "y_train = []\n",
        "for label in labels:\n",
        "    label_path = os.path.join(train_path, label)\n",
        "    for file_name in os.listdir(label_path):\n",
        "        if file_name.endswith('.jpg'):\n",
        "            img_path = os.path.join(label_path, file_name)\n",
        "            img = cv2.imread(img_path)\n",
        "            img = cv2.resize(img, (256, 256))\n",
        "            X_train.append(img)\n",
        "            y_train.append(label)"
      ]
    },
    {
      "cell_type": "code",
      "execution_count": null,
      "metadata": {
        "id": "ZFFAJqmREOod"
      },
      "outputs": [],
      "source": [
        "X_train = np.asarray(X_train)\n",
        "y_train = np.asarray(y_train)"
      ]
    },
    {
      "cell_type": "code",
      "execution_count": null,
      "metadata": {
        "id": "HhIYJkn0ETWC"
      },
      "outputs": [],
      "source": [
        "X_test = []\n",
        "y_test = []\n",
        "for label in labels:\n",
        "    label_path = os.path.join(test_path, label)\n",
        "    for file_name in os.listdir(label_path):\n",
        "        if file_name.endswith('.jpg'):\n",
        "            img_path = os.path.join(label_path, file_name)\n",
        "            img = cv2.imread(img_path)\n",
        "            img = cv2.resize(img, (256, 256))\n",
        "            X_test.append(img)\n",
        "            y_test.append(label)"
      ]
    },
    {
      "cell_type": "code",
      "execution_count": null,
      "metadata": {
        "id": "gqhRIpuYEUqf"
      },
      "outputs": [],
      "source": [
        "X_test = np.asarray(X_test)\n",
        "y_test = np.asarray(y_test)"
      ]
    },
    {
      "cell_type": "code",
      "execution_count": null,
      "metadata": {
        "colab": {
          "base_uri": "https://localhost:8080/"
        },
        "id": "VYhado_kEXG2",
        "outputId": "3361bc33-436b-467d-e9a5-2d18d8911558"
      },
      "outputs": [
        {
          "output_type": "stream",
          "name": "stdout",
          "text": [
            "X_Train : (2400, 256, 256, 3)\n",
            "y_Train : (2400,)\n",
            "X_Test : (600, 256, 256, 3)\n",
            "y_Test : (600,)\n"
          ]
        }
      ],
      "source": [
        "print(\"X_Train :\", X_train.shape)\n",
        "print(\"y_Train :\", y_train.shape)\n",
        "print(\"X_Test :\", X_test.shape)\n",
        "print(\"y_Test :\", y_test.shape)"
      ]
    },
    {
      "cell_type": "code",
      "execution_count": null,
      "metadata": {
        "id": "Oqa4PLqjEXfF"
      },
      "outputs": [],
      "source": [
        "X_train_rgb = np.array(X_train) / 255\n",
        "X_train_rgb = X_train_rgb.reshape(-1, 256, 256, 3)\n",
        "X_train_rgb = X_train_rgb.astype('float32')\n",
        "X_test_rgb = np.array(X_test) / 255\n",
        "X_test_rgb = X_test_rgb.reshape(-1, 256, 256, 3)\n",
        "X_test_rgb = X_test_rgb.astype('float32')"
      ]
    },
    {
      "cell_type": "code",
      "execution_count": null,
      "metadata": {
        "id": "Ete46gamEY0z"
      },
      "outputs": [],
      "source": [
        "y_train_rgb = np.array([labels.index(label) for label in y_train])\n",
        "y_test_rgb = np.array([labels.index(label) for label in y_test])"
      ]
    },
    {
      "cell_type": "code",
      "execution_count": null,
      "metadata": {
        "id": "KbpbK8usEZ4Z"
      },
      "outputs": [],
      "source": [
        "num_classes = len(labels)\n",
        "y_train_rgb = np.eye(num_classes)[y_train_rgb.astype('int32')]\n",
        "y_test_rgb = np.eye(num_classes)[y_test_rgb.astype('int32')]"
      ]
    },
    {
      "cell_type": "code",
      "execution_count": null,
      "metadata": {
        "colab": {
          "base_uri": "https://localhost:8080/"
        },
        "id": "YIPH1XfwEa_B",
        "outputId": "edc65d47-d519-41e6-a2ce-8a5f920ead1e"
      },
      "outputs": [
        {
          "output_type": "stream",
          "name": "stdout",
          "text": [
            "X_Train_rgb : (2400, 256, 256, 3)\n",
            "y_Train_rgb : (2400, 10)\n",
            "X_Test_rgb : (600, 256, 256, 3)\n",
            "y_Test_rgb : (600, 10)\n"
          ]
        }
      ],
      "source": [
        "print(\"X_Train_rgb :\", X_train_rgb.shape)\n",
        "print(\"y_Train_rgb :\", y_train_rgb.shape)\n",
        "print(\"X_Test_rgb :\", X_test_rgb.shape)\n",
        "print(\"y_Test_rgb :\", y_test_rgb.shape)"
      ]
    }
  ],
  "metadata": {
    "accelerator": "GPU",
    "colab": {
      "provenance": []
    },
    "gpuClass": "standard",
    "kernelspec": {
      "display_name": "Python 3",
      "name": "python3"
    },
    "language_info": {
      "name": "python"
    }
  },
  "nbformat": 4,
  "nbformat_minor": 0
}