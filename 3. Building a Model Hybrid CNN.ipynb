{
  "cells": [
    {
      "cell_type": "code",
      "execution_count": null,
      "metadata": {
        "id": "huTZzkz9i3lR"
      },
      "outputs": [],
      "source": [
        "# Model pertama untuk input RGB\n",
        "input_rgb = Input(shape=(256, 256, 3))  # Input dengan 3 channel (RGB)\n",
        "x_rgb = Conv2D(32, (3, 3),strides=(1,1), activation='relu')(input_rgb)\n",
        "x_rgb = MaxPool2D(pool_size=(2, 2))(x_rgb)\n",
        "x_rgb = Conv2D(64, (3, 3),strides=(1,1), activation='relu')(x_rgb)\n",
        "x_rgb = MaxPool2D(pool_size=(2, 2))(x_rgb)\n",
        "x_rgb = Conv2D(128, (3, 3),strides=(1,1), activation='relu')(x_rgb)\n",
        "x_rgb = MaxPool2D(pool_size=(2, 2))(x_rgb)\n",
        "x_rgb = Flatten()(x_rgb)\n",
        "x_rgb = Dense(64, activation='relu')(x_rgb)\n",
        "x_rgb = Dense(10, activation='softmax')(x_rgb)"
      ]
    },
    {
      "cell_type": "code",
      "execution_count": null,
      "metadata": {
        "id": "KR1RBk-vLmPm"
      },
      "outputs": [],
      "source": [
        "# Menginisialisasi model\n",
        "model = Model(inputs=input_rgb, outputs=x_rgb)"
      ]
    },
    {
      "cell_type": "code",
      "execution_count": null,
      "metadata": {
        "colab": {
          "base_uri": "https://localhost:8080/"
        },
        "id": "u_ty0Lkxjqr6",
        "outputId": "be6dd4be-d1c3-434e-e759-d53a8bbc1fe5"
      },
      "outputs": [
        {
          "output_type": "stream",
          "name": "stdout",
          "text": [
            "Model: \"model\"\n",
            "_________________________________________________________________\n",
            " Layer (type)                Output Shape              Param #   \n",
            "=================================================================\n",
            " input_1 (InputLayer)        [(None, 256, 256, 3)]     0         \n",
            "                                                                 \n",
            " conv2d (Conv2D)             (None, 254, 254, 32)      896       \n",
            "                                                                 \n",
            " max_pooling2d (MaxPooling2  (None, 127, 127, 32)      0         \n",
            " D)                                                              \n",
            "                                                                 \n",
            " conv2d_1 (Conv2D)           (None, 125, 125, 64)      18496     \n",
            "                                                                 \n",
            " max_pooling2d_1 (MaxPoolin  (None, 62, 62, 64)        0         \n",
            " g2D)                                                            \n",
            "                                                                 \n",
            " conv2d_2 (Conv2D)           (None, 60, 60, 128)       73856     \n",
            "                                                                 \n",
            " max_pooling2d_2 (MaxPoolin  (None, 30, 30, 128)       0         \n",
            " g2D)                                                            \n",
            "                                                                 \n",
            " flatten (Flatten)           (None, 115200)            0         \n",
            "                                                                 \n",
            " dense (Dense)               (None, 64)                7372864   \n",
            "                                                                 \n",
            " dense_1 (Dense)             (None, 10)                650       \n",
            "                                                                 \n",
            "=================================================================\n",
            "Total params: 7466762 (28.48 MB)\n",
            "Trainable params: 7466762 (28.48 MB)\n",
            "Non-trainable params: 0 (0.00 Byte)\n",
            "_________________________________________________________________\n"
          ]
        }
      ],
      "source": [
        "model.summary()"
      ]
    }
  ],
  "metadata": {
    "accelerator": "GPU",
    "colab": {
      "provenance": []
    },
    "gpuClass": "standard",
    "kernelspec": {
      "display_name": "Python 3",
      "name": "python3"
    },
    "language_info": {
      "name": "python"
    }
  },
  "nbformat": 4,
  "nbformat_minor": 0
}